{
  "nbformat": 4,
  "nbformat_minor": 0,
  "metadata": {
    "colab": {
      "provenance": []
    },
    "kernelspec": {
      "name": "python3",
      "display_name": "Python 3"
    },
    "language_info": {
      "name": "python"
    }
  },
  "cells": [
    {
      "cell_type": "markdown",
      "source": [
        "Nama: Adnan Fathoni<br>\n",
        "NIM: 24.21.1591<br>"
      ],
      "metadata": {
        "id": "u7J55fvrCVeU"
      }
    },
    {
      "cell_type": "code",
      "source": [
        "!pip install pyspark"
      ],
      "metadata": {
        "colab": {
          "base_uri": "https://localhost:8080/"
        },
        "id": "AdfRws8tkMyH",
        "outputId": "6e763026-f9d6-4f00-9ccf-2efa4b415d21"
      },
      "execution_count": null,
      "outputs": [
        {
          "output_type": "stream",
          "name": "stdout",
          "text": [
            "Collecting pyspark\n",
            "  Downloading pyspark-3.5.3.tar.gz (317.3 MB)\n",
            "\u001b[2K     \u001b[90m━━━━━━━━━━━━━━━━━━━━━━━━━━━━━━━━━━━━━━━━\u001b[0m \u001b[32m317.3/317.3 MB\u001b[0m \u001b[31m3.6 MB/s\u001b[0m eta \u001b[36m0:00:00\u001b[0m\n",
            "\u001b[?25h  Preparing metadata (setup.py) ... \u001b[?25l\u001b[?25hdone\n",
            "Requirement already satisfied: py4j==0.10.9.7 in /usr/local/lib/python3.10/dist-packages (from pyspark) (0.10.9.7)\n",
            "Building wheels for collected packages: pyspark\n",
            "  Building wheel for pyspark (setup.py) ... \u001b[?25l\u001b[?25hdone\n",
            "  Created wheel for pyspark: filename=pyspark-3.5.3-py2.py3-none-any.whl size=317840625 sha256=0defb87ef66fa6d29f4d41a5960556750a28a485d7434ffad849d5e485711402\n",
            "  Stored in directory: /root/.cache/pip/wheels/1b/3a/92/28b93e2fbfdbb07509ca4d6f50c5e407f48dce4ddbda69a4ab\n",
            "Successfully built pyspark\n",
            "Installing collected packages: pyspark\n",
            "Successfully installed pyspark-3.5.3\n"
          ]
        }
      ]
    },
    {
      "cell_type": "code",
      "source": [
        "from pyspark import SparkContext\n",
        "from pyspark.sql import SparkSession\n",
        "\n",
        "# Initialize Spark session\n",
        "spark = SparkSession.builder.appName(\"PairRDDAnalysis\").getOrCreate()\n",
        "sc = spark.sparkContext"
      ],
      "metadata": {
        "id": "Nc4onElZkdDm"
      },
      "execution_count": null,
      "outputs": []
    },
    {
      "cell_type": "code",
      "source": [
        "# Load the dataset into an RDD\n",
        "data = sc.textFile('/content/amazon.csv')\n",
        "\n",
        "# Get the header and remove it from the RDD\n",
        "header = data.first()\n",
        "rdd = data.filter(lambda row: row != header)"
      ],
      "metadata": {
        "id": "rM9jgkqtmX9C"
      },
      "execution_count": null,
      "outputs": []
    },
    {
      "cell_type": "code",
      "source": [
        "# Split each row into a list\n",
        "split_rdd = rdd.map(lambda row: row.split(','))\n",
        "\n",
        "\n",
        "def is_valid_rating_and_count(row):\n",
        "    try:\n",
        "        # Try to convert the rating to a float and rating_count to an int\n",
        "        float(row[6])  # Rating\n",
        "        int(row[7])    # Rating count\n",
        "        return True\n",
        "    except ValueError:\n",
        "        return False"
      ],
      "metadata": {
        "id": "9fWDr6nLlmz9"
      },
      "execution_count": null,
      "outputs": []
    },
    {
      "cell_type": "code",
      "source": [
        "# Filter out rows where the rating or rating_count are not valid\n",
        "valid_ratings_and_counts_rdd = split_rdd.filter(is_valid_rating_and_count)"
      ],
      "metadata": {
        "id": "1vF8JIgxnpqS"
      },
      "execution_count": null,
      "outputs": []
    },
    {
      "cell_type": "markdown",
      "source": [
        "#Buat Pair RDD untuk menghitung total ratings per category\n",
        "\n",
        "\n",
        "\n",
        "\n"
      ],
      "metadata": {
        "id": "E1VblvfGBKkk"
      }
    },
    {
      "cell_type": "code",
      "source": [
        "# Create a Pair RDD\n",
        "categoryRatingRdd = valid_ratings_and_counts_rdd.map(lambda row: (row[2], float(row[7])))\n",
        "\n",
        "if categoryRatingRdd:\n",
        "  print(\"Pair RDD created successfully!\")\n",
        "else:\n",
        "  print(\"Pair RDD creation failed.\")"
      ],
      "metadata": {
        "id": "2WSm7dJLmkzm",
        "outputId": "9a3e1a36-9c84-405a-91dc-3395f9282d72",
        "colab": {
          "base_uri": "https://localhost:8080/"
        }
      },
      "execution_count": null,
      "outputs": [
        {
          "output_type": "stream",
          "name": "stdout",
          "text": [
            "Pair RDD created successfully!\n"
          ]
        }
      ]
    },
    {
      "cell_type": "markdown",
      "source": [
        "# Gunakan reduce by key untuk menghitung jumlah rating"
      ],
      "metadata": {
        "id": "GoYp8bwdBT0v"
      }
    },
    {
      "cell_type": "code",
      "source": [
        "# Count the number of ratings per category\n",
        "lengthRating = categoryRatingRdd.reduceByKey(lambda a, b: a + b)\n",
        "\n",
        "if lengthRating:\n",
        "  print(\"Count the number of ratings per category successfully!\")\n",
        "else:\n",
        "  print(\"Count the number of ratings per category failed.\")"
      ],
      "metadata": {
        "id": "noS6dCgQmm_h",
        "outputId": "3e47ee57-8fdb-46e3-e5fa-dc827b07a07a",
        "colab": {
          "base_uri": "https://localhost:8080/"
        }
      },
      "execution_count": null,
      "outputs": [
        {
          "output_type": "stream",
          "name": "stdout",
          "text": [
            "Count the number of ratings per category successfully!\n"
          ]
        }
      ]
    },
    {
      "cell_type": "markdown",
      "source": [
        "# Munculkan jumlah ratings per category menggunakan iterasi"
      ],
      "metadata": {
        "id": "t7_VsP9jBsH2"
      }
    },
    {
      "cell_type": "code",
      "source": [
        "# Collect the results (this brings the data back to the driver)\n",
        "results = lengthRating.collect()\n",
        "\n",
        "# Iterate through the results and print each category with its total ratings, add index, remove commas\n",
        "print(\"Category with Total Ratings:\")\n",
        "for index, (category, total_ratings) in enumerate(results, start=1):\n",
        "    print(f\"{index}. {category}, : {total_ratings}\")\n"
      ],
      "metadata": {
        "colab": {
          "base_uri": "https://localhost:8080/"
        },
        "id": "awTpxxCJmpTL",
        "outputId": "fca7b13a-5b80-40b7-c797-ad800311c332"
      },
      "execution_count": null,
      "outputs": [
        {
          "output_type": "stream",
          "name": "stdout",
          "text": [
            "Category with Total Ratings:\n",
            "1.  12, : 36.0\n",
            "2.  Mini Travel Size, : 14.0\n",
            "3. Computers&Accessories|Accessories&Peripherals|Cables&Accessories|Cables|USBCables, : 2088.0\n",
            "4.  MU-MIMO Wi-Fi Dongle, : 8.0\n",
            "5. Electronics|Mobiles&Accessories|MobileAccessories|Chargers|WallChargers, : 14.0\n",
            "6. Computers&Accessories|Accessories&Peripherals|LaptopAccessories|Lapdesks, : 690.0\n",
            "7. Home&Kitchen|Kitchen&HomeAppliances|WaterPurifiers&Accessories|WaterPurifierAccessories, : 686.0\n",
            "8. Home&Kitchen|Kitchen&HomeAppliances|SmallKitchenAppliances|SandwichMakers, : 314.0\n",
            "9. Home&Kitchen|Kitchen&HomeAppliances|SmallKitchenAppliances|VacuumSealers, : 24.0\n",
            "10. Electronics|WearableTechnology|SmartWatches, : 503.0\n",
            "11. Electronics|GeneralPurposeBatteries&BatteryChargers|DisposableBatteries, : 1633.0\n",
            "12. Home&Kitchen|Kitchen&HomeAppliances|SmallKitchenAppliances|DigitalKitchenScales|DigitalScales, : 7.0\n",
            "13. Home&Kitchen|HomeStorage&Organization|LaundryOrganization|LaundryBaskets, : 330.0\n",
            "14. Home&Kitchen|Kitchen&HomeAppliances|SmallKitchenAppliances|JuicerMixerGrinders, : 4.0\n",
            "15. Home&Kitchen|HomeStorage&Organization|LaundryOrganization|IroningAccessories|SprayBottles, : 212.0\n"
          ]
        }
      ]
    }
  ]
}